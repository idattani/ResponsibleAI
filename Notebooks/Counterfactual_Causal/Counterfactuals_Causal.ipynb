{
 "cells": [
  {
   "cell_type": "markdown",
   "metadata": {},
   "source": [
    "## Install Required Packages"
   ]
  },
  {
   "cell_type": "code",
   "execution_count": null,
   "metadata": {},
   "outputs": [],
   "source": [
    "# %pip install --upgrade raiwidgets\n",
    "# %pip install --upgrade pandas\n",
    "# %pip install --upgrade fairlearn\n",
    "# %pip install --upgrade interpret-community"
   ]
  },
  {
   "cell_type": "markdown",
   "metadata": {},
   "source": [
    "After installing packages, you must close and reopen the notebook as well as restarting the kernel."
   ]
  },
  {
   "cell_type": "markdown",
   "metadata": {},
   "source": [
    "## Counterfactuals and Causal Effects"
   ]
  },
  {
   "cell_type": "markdown",
   "metadata": {},
   "source": [
    "\n",
    "\n",
    "**Counterfactual Analysis** powered by [DiCE](https://github.com/interpretml/DiCE), which shows feature-perturbed versions of the same datapoint who would have received a different prediction outcome, e.g., Taylor's loan has been rejected by the model. But they would have received the loan if their income was higher by $10,000.\n",
    "\n",
    "**Causal Analysis** powered by [EconML](https://github.com/py-why/EconML), which focuses on answering What If-style questions to apply data-driven decision-making – how would revenue be affected if a corporation pursues a new pricing strategy? Would a new medication improve a patient’s condition, all else equal?\n"
   ]
  },
  {
   "cell_type": "code",
   "execution_count": null,
   "metadata": {},
   "outputs": [],
   "source": [
    "import pandas as pd\n",
    "from sklearn.model_selection import train_test_split\n",
    "from sklearn.ensemble import RandomForestRegressor\n",
    "from responsibleai import RAIInsights\n",
    "from raiwidgets import ResponsibleAIDashboard"
   ]
  },
  {
   "cell_type": "code",
   "execution_count": null,
   "metadata": {},
   "outputs": [],
   "source": [
    "# Load the dataset\n",
    "data = pd.read_csv('housing_prices.csv')\n",
    "\n",
    "# Check column names for verification\n",
    "print(\"Column names in the dataset:\", data.columns)\n",
    "\n",
    "# Define target column\n",
    "target_column = 'price'  # Replace 'price' with the correct column name if different"
   ]
  },
  {
   "cell_type": "code",
   "execution_count": null,
   "metadata": {},
   "outputs": [],
   "source": [
    "# Ensure target column exists\n",
    "if target_column in data.columns:\n",
    "    print(f\"Target column '{target_column}' exists.\")\n",
    "else:\n",
    "    print(f\"Target column '{target_column}' does NOT exist. Check column name.\")\n",
    "\n",
    "# Separate features (X) and target (y)\n",
    "X = data.drop(columns=[target_column])  # Drop target column from features\n",
    "y = data[target_column]  # Target column\n",
    "\n",
    "# Convert the target column into DataFrame to match the expected input format\n",
    "y = pd.DataFrame(y, columns=[target_column])\n",
    "\n",
    "# Handle categorical variables by converting to numeric (one-hot encoding)\n",
    "X = pd.get_dummies(X, drop_first=True)  # Convert categorical variables to one-hot encoding\n",
    "\n",
    "# Ensure all feature columns are numeric\n",
    "X = X.astype(float)"
   ]
  },
  {
   "cell_type": "code",
   "execution_count": null,
   "metadata": {},
   "outputs": [],
   "source": [
    "# Split data into train and test sets\n",
    "X_train, X_test, y_train, y_test = train_test_split(X, y, test_size=0.2, random_state=42)\n",
    "\n",
    "# Train a RandomForestRegressor model\n",
    "model = RandomForestRegressor(n_estimators=100, random_state=42)\n",
    "model.fit(X_train, y_train.values.ravel())  # Use .ravel() to make sure target is a 1D array\n",
    "\n",
    "# Combine training and test features with their corresponding targets for RAIInsights\n",
    "train_data = pd.concat([X_train, y_train], axis=1)\n",
    "test_data = pd.concat([X_test, y_test], axis=1)"
   ]
  },
  {
   "cell_type": "code",
   "execution_count": null,
   "metadata": {},
   "outputs": [],
   "source": [
    "# Create RAIInsights object\n",
    "rai_insights = RAIInsights(model=model,\n",
    "                           train=train_data,\n",
    "                           test=test_data,\n",
    "                           target_column=target_column,\n",
    "                           task_type='regression')\n",
    "\n",
    "# Generate counterfactuals with a broader desired range\n",
    "# Adjust these values based on your data distribution\n",
    "desired_range = [data[target_column].min(), data[target_column].max()]  # Use full range of target values\n",
    "rai_insights.counterfactual.add(total_CFs=20, desired_range=desired_range)\n",
    "\n",
    "# Check the treatment features\n",
    "treatment_features = ['SquareFeet', 'Bedrooms', 'Bathrooms']  # Ensure these features are correct\n",
    "rai_insights.causal.add(treatment_features=treatment_features)"
   ]
  },
  {
   "cell_type": "code",
   "execution_count": null,
   "metadata": {},
   "outputs": [],
   "source": [
    "# Compute insights\n",
    "rai_insights.compute()"
   ]
  },
  {
   "cell_type": "code",
   "execution_count": null,
   "metadata": {},
   "outputs": [],
   "source": [
    "# Instantiate Responsible AI Dashboard\n",
    "ResponsibleAIDashboard(rai_insights)"
   ]
  },
  {
   "cell_type": "markdown",
   "metadata": {},
   "source": [
    "## © Copyright, 2025 Assentian Limited. All Rights Reserved "
   ]
  }
 ],
 "metadata": {
  "kernelspec": {
   "display_name": "Python 3",
   "language": "python",
   "name": "python3"
  },
  "language_info": {
   "codemirror_mode": {
    "name": "ipython",
    "version": 3
   },
   "file_extension": ".py",
   "mimetype": "text/x-python",
   "name": "python",
   "nbconvert_exporter": "python",
   "pygments_lexer": "ipython3",
   "version": "3.11.4"
  }
 },
 "nbformat": 4,
 "nbformat_minor": 2
}
