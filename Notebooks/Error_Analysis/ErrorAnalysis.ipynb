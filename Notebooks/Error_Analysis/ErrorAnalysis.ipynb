{
 "cells": [
  {
   "cell_type": "markdown",
   "metadata": {},
   "source": [
    "## Install Required Packages"
   ]
  },
  {
   "cell_type": "code",
   "execution_count": null,
   "metadata": {},
   "outputs": [],
   "source": [
    "# %pip install --upgrade raiwidgets\n",
    "# %pip install --upgrade pandas\n",
    "# %pip install --upgrade fairlearn\n",
    "# %pip install --upgrade interpret-community"
   ]
  },
  {
   "cell_type": "markdown",
   "metadata": {},
   "source": [
    "After installing packages, you must close and reopen the notebook as well as restarting the kernel."
   ]
  },
  {
   "cell_type": "markdown",
   "metadata": {},
   "source": [
    "## Error Analysis"
   ]
  },
  {
   "cell_type": "markdown",
   "metadata": {},
   "source": [
    "**Error Analysis** powered by [Error Analysis](https://github.com/microsoft/responsible-ai-toolbox/blob/main/docs/erroranalysis-dashboard-README.md), which identifies cohorts of data with higher error rate than the overall benchmark. These discrepancies might occur when the system or model underperforms for specific demographic groups or infrequently observed input conditions in the training data."
   ]
  },
  {
   "cell_type": "code",
   "execution_count": null,
   "metadata": {},
   "outputs": [],
   "source": [
    "import pandas as pd\n",
    "from sklearn.model_selection import train_test_split\n",
    "from sklearn.ensemble import RandomForestClassifier\n",
    "from responsibleai import RAIInsights\n",
    "from raiwidgets import ResponsibleAIDashboard"
   ]
  },
  {
   "cell_type": "code",
   "execution_count": null,
   "metadata": {},
   "outputs": [],
   "source": [
    "# Load the dataset\n",
    "data = pd.read_csv('/home/josh/Downloads/AiDashOwnModels/Acidents_dataset.csv')\n",
    "\n",
    "# Check column names for verification\n",
    "print(\"Column names in the dataset:\", data.columns)\n",
    "\n",
    "# Define target column\n",
    "target_column = 'Degree of Injury'"
   ]
  },
  {
   "cell_type": "code",
   "execution_count": null,
   "metadata": {},
   "outputs": [],
   "source": [
    "# Ensure target column exists\n",
    "if target_column in data.columns:\n",
    "    print(f\"Target column '{target_column}' exists.\")\n",
    "else:\n",
    "    print(f\"Target column '{target_column}' does NOT exist. Check column name.\")\n",
    "\n",
    "# Separate features (X) and target (y)\n",
    "X = data.drop(columns=[target_column])  # Drop target column from features\n",
    "y = data[target_column]  # Target column (keep in original form)\n",
    "\n",
    "# Handle categorical variables by converting to numeric (one-hot encoding)\n",
    "X = pd.get_dummies(X, drop_first=True)  # Convert categorical variables to one-hot encoding\n",
    "\n",
    "# Ensure all feature columns are numeric\n",
    "X = X.astype(float)"
   ]
  },
  {
   "cell_type": "code",
   "execution_count": null,
   "metadata": {},
   "outputs": [],
   "source": [
    "X_train, X_test, y_train, y_test = train_test_split(X, y, test_size=0.2, random_state=42)\n",
    "\n",
    "# Train a RandomForestClassifier model\n",
    "model = RandomForestClassifier(n_estimators=100, random_state=42)\n",
    "model.fit(X_train, y_train)"
   ]
  },
  {
   "cell_type": "code",
   "execution_count": null,
   "metadata": {},
   "outputs": [],
   "source": [
    "preds = model.predict(X_test)\n",
    "print(\"Unique predictions from model:\", pd.Series(preds).unique())\n",
    "\n",
    "# Combine training and test features with their corresponding targets for RAIInsights\n",
    "train_data = pd.concat([X_train, y_train], axis=1)\n",
    "test_data = pd.concat([X_test, y_test], axis=1)"
   ]
  },
  {
   "cell_type": "code",
   "execution_count": null,
   "metadata": {},
   "outputs": [],
   "source": [
    "# Create RAIInsights object\n",
    "rai_insights = RAIInsights(model=model,\n",
    "                           train=train_data,\n",
    "                           test=test_data,\n",
    "                           target_column=target_column,\n",
    "                           task_type='classification')\n",
    "\n",
    "# Pass the desired class as a list to ensure proper recognition\n",
    "\n",
    "\n",
    "# Add Counterfactuals, Explainers, and Error Analysis\n",
    "rai_insights.counterfactual.add(total_CFs=10, desired_class='opposite')\n",
    "rai_insights.explainer.add()\n",
    "rai_insights.error_analysis.add()"
   ]
  },
  {
   "cell_type": "code",
   "execution_count": null,
   "metadata": {},
   "outputs": [],
   "source": [
    "# Compute insights\n",
    "rai_insights.compute()"
   ]
  },
  {
   "cell_type": "code",
   "execution_count": null,
   "metadata": {},
   "outputs": [],
   "source": [
    "ResponsibleAIDashboard(rai_insights)"
   ]
  },
  {
   "cell_type": "markdown",
   "metadata": {},
   "source": [
    "## © Copyright, 2025 Assentian Limited. All Rights Reserved "
   ]
  }
 ],
 "metadata": {
  "kernelspec": {
   "display_name": "Python 3",
   "language": "python",
   "name": "python3"
  },
  "language_info": {
   "codemirror_mode": {
    "name": "ipython",
    "version": 3
   },
   "file_extension": ".py",
   "mimetype": "text/x-python",
   "name": "python",
   "nbconvert_exporter": "python",
   "pygments_lexer": "ipython3",
   "version": "3.11.4"
  }
 },
 "nbformat": 4,
 "nbformat_minor": 2
}
